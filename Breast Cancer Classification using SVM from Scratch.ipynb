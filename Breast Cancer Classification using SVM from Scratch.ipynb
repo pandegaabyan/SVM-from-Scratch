{
 "cells": [
  {
   "cell_type": "markdown",
   "metadata": {},
   "source": [
    "# Project AI - Breast Cancer Classification using SVM from Scratch\n",
    "### Pandega Abyan Zumarsyah - 18/424977/TK/46672\n",
    "\n",
    "Pada project ini, saya melakukan klasifikasi tipe Breast Cancer menggunakan SVM (Support Vector Machine). SVM dipilih karena sangat terkenal dan performanya cukup bagus. Selain itu, saya pribadi juga ingin belajar lebih terkait SVM ini. Sementara itu, data terkait Breast Cancer didapatkan dari kaggle dengan nama Breast Cancer Wisconsin. \n",
    "\n",
    "Datanya memiliki dua kelas yaitu Benign/jinak dan Malignant/ganas. Terdapat 30 fitur, di antaranya radius_mean, texture_mean, radius_worst, dan radius_se. Namun, di awal, perlu pengolahan untuk memilih fitur apa saja yang akan digunakan. Pemilihan itu berdasarkan pada nilai cross-correlation setiap fitur dengan yang lain. Setelah itu, datanya dipisah antara training dan testing. \n",
    "\n",
    "Kemudian, masuk ke tahap training. Pada training ini, persamaan dasar dari SVM dioptimasi menggunakan metode Stochastic Gradient Descent (SGD). SGD memang banyak digunakan untuk optimasi SVM. Dalam training SVM dengan SGD ini, parameter seperti learning rate dan regularization perlu diatur agar hasilnya maksimal. \n",
    "\n",
    "Dalam pengerjaannya, saya awalnya mempelajari dataset yang ada beserta fitur-fiturnya. Itu penting untuk menentukan fitur yang tepat. Kemudian, saya mempelajari SVM mulai dari konsep, jenis, sampai implementasinya dengan optimasi berbasis SGD. Meski saya juga mempelajari kode yang ada di referensi, kode di sini tidak hanya copy-paste dari referensi. Dari berbagai kode yang ada, saya melakukan penyederhanaan dan improvement. Bagian kode yang saya kembangkan sendiri juga banyak. Referensi saya di antaranya:\n",
    "- Terkait Dataset: https://www.kaggle.com/priyanka841/breast-cancer-wisconsin\n",
    "- Konsep SVM dengan SGD: https://svivek.com/teaching/lectures/slides/svm/svm-sgd.pdf\n",
    "- Konsep SVM dengan SGD: https://towardsdatascience.com/solving-svm-stochastic-gradient-descent-and-hinge-loss-8e8b4dd91f5b\n",
    "- Konsep SVM dan kode: https://medium.com/deep-math-machine-learning-ai/chapter-3-support-vector-machine-with-math-47d6193c82be\n",
    "- Konsep SVM dan kode: https://medium.com/@saishruthi.tn/support-vector-machine-using-numpy-846f83f4183d\n",
    "- Konsep SVM Soft Margin: https://youtu.be/IjSfa7Q8ngs\n",
    "- Konsep SVM (Stanford Lecture): https://youtu.be/8xbnLHn4jjQ"
   ]
  },
  {
   "cell_type": "markdown",
   "metadata": {},
   "source": [
    "## Import Library and Data\n",
    "Pada bagian ini, terdapat import library, import data, dan overview terkait data. Library yang digunakan hanyalah library dasar, bukan library lanjutan untuk machine learning. Data diimport dalam bentuk Dataframe yang kemudian dapat kita lihat overview nya. Terdapat 2 kelas, 30 fitur, dan 569 instances"
   ]
  },
  {
   "cell_type": "code",
   "execution_count": 1,
   "metadata": {},
   "outputs": [],
   "source": [
    "import pandas as pd\n",
    "import numpy as np\n",
    "import matplotlib.pyplot as plt"
   ]
  },
  {
   "cell_type": "code",
   "execution_count": 2,
   "metadata": {},
   "outputs": [],
   "source": [
    "# load csv data as Dataframe\n",
    "original = pd.read_csv('breast cancer.csv')"
   ]
  },
  {
   "cell_type": "code",
   "execution_count": 3,
   "metadata": {},
   "outputs": [
    {
     "name": "stdout",
     "output_type": "stream",
     "text": [
      "<class 'pandas.core.frame.DataFrame'>\n",
      "RangeIndex: 569 entries, 0 to 568\n",
      "Data columns (total 33 columns):\n",
      "id                         569 non-null int64\n",
      "diagnosis                  569 non-null object\n",
      "radius_mean                569 non-null float64\n",
      "texture_mean               569 non-null float64\n",
      "perimeter_mean             569 non-null float64\n",
      "area_mean                  569 non-null float64\n",
      "smoothness_mean            569 non-null float64\n",
      "compactness_mean           569 non-null float64\n",
      "concavity_mean             569 non-null float64\n",
      "concave points_mean        569 non-null float64\n",
      "symmetry_mean              569 non-null float64\n",
      "fractal_dimension_mean     569 non-null float64\n",
      "radius_se                  569 non-null float64\n",
      "texture_se                 569 non-null float64\n",
      "perimeter_se               569 non-null float64\n",
      "area_se                    569 non-null float64\n",
      "smoothness_se              569 non-null float64\n",
      "compactness_se             569 non-null float64\n",
      "concavity_se               569 non-null float64\n",
      "concave points_se          569 non-null float64\n",
      "symmetry_se                569 non-null float64\n",
      "fractal_dimension_se       569 non-null float64\n",
      "radius_worst               569 non-null float64\n",
      "texture_worst              569 non-null float64\n",
      "perimeter_worst            569 non-null float64\n",
      "area_worst                 569 non-null float64\n",
      "smoothness_worst           569 non-null float64\n",
      "compactness_worst          569 non-null float64\n",
      "concavity_worst            569 non-null float64\n",
      "concave points_worst       569 non-null float64\n",
      "symmetry_worst             569 non-null float64\n",
      "fractal_dimension_worst    569 non-null float64\n",
      "Unnamed: 32                0 non-null float64\n",
      "dtypes: float64(31), int64(1), object(1)\n",
      "memory usage: 146.8+ KB\n"
     ]
    }
   ],
   "source": [
    "original.info()"
   ]
  },
  {
   "cell_type": "code",
   "execution_count": 4,
   "metadata": {},
   "outputs": [
    {
     "data": {
      "text/html": [
       "<div>\n",
       "<style scoped>\n",
       "    .dataframe tbody tr th:only-of-type {\n",
       "        vertical-align: middle;\n",
       "    }\n",
       "\n",
       "    .dataframe tbody tr th {\n",
       "        vertical-align: top;\n",
       "    }\n",
       "\n",
       "    .dataframe thead th {\n",
       "        text-align: right;\n",
       "    }\n",
       "</style>\n",
       "<table border=\"1\" class=\"dataframe\">\n",
       "  <thead>\n",
       "    <tr style=\"text-align: right;\">\n",
       "      <th></th>\n",
       "      <th>id</th>\n",
       "      <th>diagnosis</th>\n",
       "      <th>radius_mean</th>\n",
       "      <th>texture_mean</th>\n",
       "      <th>perimeter_mean</th>\n",
       "      <th>area_mean</th>\n",
       "      <th>smoothness_mean</th>\n",
       "      <th>compactness_mean</th>\n",
       "      <th>concavity_mean</th>\n",
       "      <th>concave points_mean</th>\n",
       "      <th>...</th>\n",
       "      <th>texture_worst</th>\n",
       "      <th>perimeter_worst</th>\n",
       "      <th>area_worst</th>\n",
       "      <th>smoothness_worst</th>\n",
       "      <th>compactness_worst</th>\n",
       "      <th>concavity_worst</th>\n",
       "      <th>concave points_worst</th>\n",
       "      <th>symmetry_worst</th>\n",
       "      <th>fractal_dimension_worst</th>\n",
       "      <th>Unnamed: 32</th>\n",
       "    </tr>\n",
       "  </thead>\n",
       "  <tbody>\n",
       "    <tr>\n",
       "      <td>564</td>\n",
       "      <td>926424</td>\n",
       "      <td>M</td>\n",
       "      <td>21.56</td>\n",
       "      <td>22.39</td>\n",
       "      <td>142.00</td>\n",
       "      <td>1479.0</td>\n",
       "      <td>0.11100</td>\n",
       "      <td>0.11590</td>\n",
       "      <td>0.24390</td>\n",
       "      <td>0.13890</td>\n",
       "      <td>...</td>\n",
       "      <td>26.40</td>\n",
       "      <td>166.10</td>\n",
       "      <td>2027.0</td>\n",
       "      <td>0.14100</td>\n",
       "      <td>0.21130</td>\n",
       "      <td>0.4107</td>\n",
       "      <td>0.2216</td>\n",
       "      <td>0.2060</td>\n",
       "      <td>0.07115</td>\n",
       "      <td>NaN</td>\n",
       "    </tr>\n",
       "    <tr>\n",
       "      <td>565</td>\n",
       "      <td>926682</td>\n",
       "      <td>M</td>\n",
       "      <td>20.13</td>\n",
       "      <td>28.25</td>\n",
       "      <td>131.20</td>\n",
       "      <td>1261.0</td>\n",
       "      <td>0.09780</td>\n",
       "      <td>0.10340</td>\n",
       "      <td>0.14400</td>\n",
       "      <td>0.09791</td>\n",
       "      <td>...</td>\n",
       "      <td>38.25</td>\n",
       "      <td>155.00</td>\n",
       "      <td>1731.0</td>\n",
       "      <td>0.11660</td>\n",
       "      <td>0.19220</td>\n",
       "      <td>0.3215</td>\n",
       "      <td>0.1628</td>\n",
       "      <td>0.2572</td>\n",
       "      <td>0.06637</td>\n",
       "      <td>NaN</td>\n",
       "    </tr>\n",
       "    <tr>\n",
       "      <td>566</td>\n",
       "      <td>926954</td>\n",
       "      <td>M</td>\n",
       "      <td>16.60</td>\n",
       "      <td>28.08</td>\n",
       "      <td>108.30</td>\n",
       "      <td>858.1</td>\n",
       "      <td>0.08455</td>\n",
       "      <td>0.10230</td>\n",
       "      <td>0.09251</td>\n",
       "      <td>0.05302</td>\n",
       "      <td>...</td>\n",
       "      <td>34.12</td>\n",
       "      <td>126.70</td>\n",
       "      <td>1124.0</td>\n",
       "      <td>0.11390</td>\n",
       "      <td>0.30940</td>\n",
       "      <td>0.3403</td>\n",
       "      <td>0.1418</td>\n",
       "      <td>0.2218</td>\n",
       "      <td>0.07820</td>\n",
       "      <td>NaN</td>\n",
       "    </tr>\n",
       "    <tr>\n",
       "      <td>567</td>\n",
       "      <td>927241</td>\n",
       "      <td>M</td>\n",
       "      <td>20.60</td>\n",
       "      <td>29.33</td>\n",
       "      <td>140.10</td>\n",
       "      <td>1265.0</td>\n",
       "      <td>0.11780</td>\n",
       "      <td>0.27700</td>\n",
       "      <td>0.35140</td>\n",
       "      <td>0.15200</td>\n",
       "      <td>...</td>\n",
       "      <td>39.42</td>\n",
       "      <td>184.60</td>\n",
       "      <td>1821.0</td>\n",
       "      <td>0.16500</td>\n",
       "      <td>0.86810</td>\n",
       "      <td>0.9387</td>\n",
       "      <td>0.2650</td>\n",
       "      <td>0.4087</td>\n",
       "      <td>0.12400</td>\n",
       "      <td>NaN</td>\n",
       "    </tr>\n",
       "    <tr>\n",
       "      <td>568</td>\n",
       "      <td>92751</td>\n",
       "      <td>B</td>\n",
       "      <td>7.76</td>\n",
       "      <td>24.54</td>\n",
       "      <td>47.92</td>\n",
       "      <td>181.0</td>\n",
       "      <td>0.05263</td>\n",
       "      <td>0.04362</td>\n",
       "      <td>0.00000</td>\n",
       "      <td>0.00000</td>\n",
       "      <td>...</td>\n",
       "      <td>30.37</td>\n",
       "      <td>59.16</td>\n",
       "      <td>268.6</td>\n",
       "      <td>0.08996</td>\n",
       "      <td>0.06444</td>\n",
       "      <td>0.0000</td>\n",
       "      <td>0.0000</td>\n",
       "      <td>0.2871</td>\n",
       "      <td>0.07039</td>\n",
       "      <td>NaN</td>\n",
       "    </tr>\n",
       "  </tbody>\n",
       "</table>\n",
       "<p>5 rows × 33 columns</p>\n",
       "</div>"
      ],
      "text/plain": [
       "         id diagnosis  radius_mean  texture_mean  perimeter_mean  area_mean  \\\n",
       "564  926424         M        21.56         22.39          142.00     1479.0   \n",
       "565  926682         M        20.13         28.25          131.20     1261.0   \n",
       "566  926954         M        16.60         28.08          108.30      858.1   \n",
       "567  927241         M        20.60         29.33          140.10     1265.0   \n",
       "568   92751         B         7.76         24.54           47.92      181.0   \n",
       "\n",
       "     smoothness_mean  compactness_mean  concavity_mean  concave points_mean  \\\n",
       "564          0.11100           0.11590         0.24390              0.13890   \n",
       "565          0.09780           0.10340         0.14400              0.09791   \n",
       "566          0.08455           0.10230         0.09251              0.05302   \n",
       "567          0.11780           0.27700         0.35140              0.15200   \n",
       "568          0.05263           0.04362         0.00000              0.00000   \n",
       "\n",
       "     ...  texture_worst  perimeter_worst  area_worst  smoothness_worst  \\\n",
       "564  ...          26.40           166.10      2027.0           0.14100   \n",
       "565  ...          38.25           155.00      1731.0           0.11660   \n",
       "566  ...          34.12           126.70      1124.0           0.11390   \n",
       "567  ...          39.42           184.60      1821.0           0.16500   \n",
       "568  ...          30.37            59.16       268.6           0.08996   \n",
       "\n",
       "     compactness_worst  concavity_worst  concave points_worst  symmetry_worst  \\\n",
       "564            0.21130           0.4107                0.2216          0.2060   \n",
       "565            0.19220           0.3215                0.1628          0.2572   \n",
       "566            0.30940           0.3403                0.1418          0.2218   \n",
       "567            0.86810           0.9387                0.2650          0.4087   \n",
       "568            0.06444           0.0000                0.0000          0.2871   \n",
       "\n",
       "     fractal_dimension_worst  Unnamed: 32  \n",
       "564                  0.07115          NaN  \n",
       "565                  0.06637          NaN  \n",
       "566                  0.07820          NaN  \n",
       "567                  0.12400          NaN  \n",
       "568                  0.07039          NaN  \n",
       "\n",
       "[5 rows x 33 columns]"
      ]
     },
     "execution_count": 4,
     "metadata": {},
     "output_type": "execute_result"
    }
   ],
   "source": [
    "original.tail()"
   ]
  },
  {
   "cell_type": "code",
   "execution_count": 5,
   "metadata": {},
   "outputs": [
    {
     "data": {
      "text/plain": [
       "B    357\n",
       "M    212\n",
       "Name: diagnosis, dtype: int64"
      ]
     },
     "execution_count": 5,
     "metadata": {},
     "output_type": "execute_result"
    }
   ],
   "source": [
    "# count instances of each classes\n",
    "original['diagnosis'].value_counts()"
   ]
  },
  {
   "cell_type": "markdown",
   "metadata": {},
   "source": [
    "## Feature Engineering\n",
    "Kita perlu memilih fitur apa yang akan digunakan dan melakukan sedikit penyesuaian pada nilainya"
   ]
  },
  {
   "cell_type": "markdown",
   "metadata": {},
   "source": [
    "### Cross-Correlation for Choosing Suitable Feature\n",
    "\n",
    "Awalnya, terdapat perhitungan cross-correlation. Fitur-fitur dengan korelasi yang tinggi dipilih salah satu saja untuk mewakili yang lain. Dengan begitu, modelnya menjadi lebih sederhana dan komputasinya menjadi lebih ringan. Selain itu, fitur-fitur dengan korelasi tinggi jika digabungkan justru bisa mengurangi performa model. \n",
    "\n",
    "Selain korelasi antarfitur, kita juga perlu memperhatikan korelasi tiap fitur dengan variabel dependen yaitu diagnosis. Ketika korelasi suatu fitur dengan diagnosis sangat rendah, kita bisa membuangnya dan fokus pada fitur lain yang lebih penting. "
   ]
  },
  {
   "cell_type": "code",
   "execution_count": 6,
   "metadata": {},
   "outputs": [],
   "source": [
    "# copy original dataframe\n",
    "data = original.copy()\n",
    "\n",
    "# map 'B' => -1 and 'M' => 1\n",
    "data = data.applymap(lambda x: -1 if (x == 'B') else 1 if (x == 'M') else x)\n",
    "\n",
    "# drop columns that are not used in calculating cross-correlation\n",
    "data = data.drop(['id', 'Unnamed: 32'], axis=1)"
   ]
  },
  {
   "cell_type": "code",
   "execution_count": 7,
   "metadata": {},
   "outputs": [
    {
     "data": {
      "image/png": "[encoded data removed]",
      "text/plain": [
       "<Figure size 1080x1080 with 2 Axes>"
      ]
     },
     "metadata": {
      "needs_background": "light"
     },
     "output_type": "display_data"
    }
   ],
   "source": [
    "# calculate correlation\n",
    "corr = abs(data.corr())\n",
    "\n",
    "# create heat map of the correlation\n",
    "fig = plt.figure(figsize = (15, 15))\n",
    "ax = fig.add_subplot()\n",
    "cax = ax.matshow(corr, vmin = 0, vmax = 1, cmap = 'coolwarm')\n",
    "fig.colorbar(cax)\n",
    "\n",
    "# manage ticks of the plot\n",
    "ticks = np.arange(-0.5, len(data.columns)+0.5, 1)\n",
    "ax.set_xticks(ticks)\n",
    "ax.set_xticklabels(data.columns)\n",
    "plt.xticks(rotation = 90)\n",
    "ax.set_yticks(ticks)\n",
    "ax.set_yticklabels(data.columns)\n",
    "\n",
    "plt.show()"
   ]
  },
  {
   "cell_type": "markdown",
   "metadata": {},
   "source": [
    "Dari heat map di atas, ada beberapa grup yang menunjukan cross-correlation yang tinggi (terlihat dari warna sangat merah), di antaranya:\n",
    "- Hampir semua fitur mean dan worse\n",
    "- Fitur radius, perimeter, area\n",
    "- Fitur compactness, concavity, concave points\n",
    "\n",
    "Di sisi lain, kita tidak bisa memilih fitur yang korelasinya dengan diagnosis terlalu rendah (terlihat dari warna sangat biru pada baris/kolom pertama). Dengan pertimbangan korelasi antarfitur dan korelasi fitur dengan diagnosis, saya memilih empat fitur untuk digunakan: radius_mean, texture_mean, concavity_mean, dan radius_se"
   ]
  },
  {
   "cell_type": "code",
   "execution_count": 8,
   "metadata": {},
   "outputs": [],
   "source": [
    "# simplify the data into one column for class type and four columns for features\n",
    "data = original[['diagnosis', 'radius_mean', 'texture_mean', 'concavity_mean', 'radius_se']]\n",
    "\n",
    "# map 'B' => -1 and 'M' => 1\n",
    "data = data.applymap(lambda x: -1 if (x == 'B') else 1 if (x == 'M') else x)"
   ]
  },
  {
   "cell_type": "code",
   "execution_count": 9,
   "metadata": {},
   "outputs": [
    {
     "data": {
      "text/html": [
       "<div>\n",
       "<style scoped>\n",
       "    .dataframe tbody tr th:only-of-type {\n",
       "        vertical-align: middle;\n",
       "    }\n",
       "\n",
       "    .dataframe tbody tr th {\n",
       "        vertical-align: top;\n",
       "    }\n",
       "\n",
       "    .dataframe thead th {\n",
       "        text-align: right;\n",
       "    }\n",
       "</style>\n",
       "<table border=\"1\" class=\"dataframe\">\n",
       "  <thead>\n",
       "    <tr style=\"text-align: right;\">\n",
       "      <th></th>\n",
       "      <th>diagnosis</th>\n",
       "      <th>radius_mean</th>\n",
       "      <th>texture_mean</th>\n",
       "      <th>concavity_mean</th>\n",
       "      <th>radius_se</th>\n",
       "    </tr>\n",
       "  </thead>\n",
       "  <tbody>\n",
       "    <tr>\n",
       "      <td>564</td>\n",
       "      <td>1</td>\n",
       "      <td>21.56</td>\n",
       "      <td>22.39</td>\n",
       "      <td>0.24390</td>\n",
       "      <td>1.1760</td>\n",
       "    </tr>\n",
       "    <tr>\n",
       "      <td>565</td>\n",
       "      <td>1</td>\n",
       "      <td>20.13</td>\n",
       "      <td>28.25</td>\n",
       "      <td>0.14400</td>\n",
       "      <td>0.7655</td>\n",
       "    </tr>\n",
       "    <tr>\n",
       "      <td>566</td>\n",
       "      <td>1</td>\n",
       "      <td>16.60</td>\n",
       "      <td>28.08</td>\n",
       "      <td>0.09251</td>\n",
       "      <td>0.4564</td>\n",
       "    </tr>\n",
       "    <tr>\n",
       "      <td>567</td>\n",
       "      <td>1</td>\n",
       "      <td>20.60</td>\n",
       "      <td>29.33</td>\n",
       "      <td>0.35140</td>\n",
       "      <td>0.7260</td>\n",
       "    </tr>\n",
       "    <tr>\n",
       "      <td>568</td>\n",
       "      <td>-1</td>\n",
       "      <td>7.76</td>\n",
       "      <td>24.54</td>\n",
       "      <td>0.00000</td>\n",
       "      <td>0.3857</td>\n",
       "    </tr>\n",
       "  </tbody>\n",
       "</table>\n",
       "</div>"
      ],
      "text/plain": [
       "     diagnosis  radius_mean  texture_mean  concavity_mean  radius_se\n",
       "564          1        21.56         22.39         0.24390     1.1760\n",
       "565          1        20.13         28.25         0.14400     0.7655\n",
       "566          1        16.60         28.08         0.09251     0.4564\n",
       "567          1        20.60         29.33         0.35140     0.7260\n",
       "568         -1         7.76         24.54         0.00000     0.3857"
      ]
     },
     "execution_count": 9,
     "metadata": {},
     "output_type": "execute_result"
    }
   ],
   "source": [
    "data.tail()"
   ]
  },
  {
   "cell_type": "code",
   "execution_count": 10,
   "metadata": {
    "scrolled": true
   },
   "outputs": [
    {
     "data": {
      "text/html": [
       "<div>\n",
       "<style scoped>\n",
       "    .dataframe tbody tr th:only-of-type {\n",
       "        vertical-align: middle;\n",
       "    }\n",
       "\n",
       "    .dataframe tbody tr th {\n",
       "        vertical-align: top;\n",
       "    }\n",
       "\n",
       "    .dataframe thead th {\n",
       "        text-align: right;\n",
       "    }\n",
       "</style>\n",
       "<table border=\"1\" class=\"dataframe\">\n",
       "  <thead>\n",
       "    <tr style=\"text-align: right;\">\n",
       "      <th></th>\n",
       "      <th>diagnosis</th>\n",
       "      <th>radius_mean</th>\n",
       "      <th>texture_mean</th>\n",
       "      <th>concavity_mean</th>\n",
       "      <th>radius_se</th>\n",
       "    </tr>\n",
       "  </thead>\n",
       "  <tbody>\n",
       "    <tr>\n",
       "      <td>diagnosis</td>\n",
       "      <td>1.000000</td>\n",
       "      <td>0.730029</td>\n",
       "      <td>0.415185</td>\n",
       "      <td>0.696360</td>\n",
       "      <td>0.567134</td>\n",
       "    </tr>\n",
       "    <tr>\n",
       "      <td>radius_mean</td>\n",
       "      <td>0.730029</td>\n",
       "      <td>1.000000</td>\n",
       "      <td>0.323782</td>\n",
       "      <td>0.676764</td>\n",
       "      <td>0.679090</td>\n",
       "    </tr>\n",
       "    <tr>\n",
       "      <td>texture_mean</td>\n",
       "      <td>0.415185</td>\n",
       "      <td>0.323782</td>\n",
       "      <td>1.000000</td>\n",
       "      <td>0.302418</td>\n",
       "      <td>0.275869</td>\n",
       "    </tr>\n",
       "    <tr>\n",
       "      <td>concavity_mean</td>\n",
       "      <td>0.696360</td>\n",
       "      <td>0.676764</td>\n",
       "      <td>0.302418</td>\n",
       "      <td>1.000000</td>\n",
       "      <td>0.631925</td>\n",
       "    </tr>\n",
       "    <tr>\n",
       "      <td>radius_se</td>\n",
       "      <td>0.567134</td>\n",
       "      <td>0.679090</td>\n",
       "      <td>0.275869</td>\n",
       "      <td>0.631925</td>\n",
       "      <td>1.000000</td>\n",
       "    </tr>\n",
       "  </tbody>\n",
       "</table>\n",
       "</div>"
      ],
      "text/plain": [
       "                diagnosis  radius_mean  texture_mean  concavity_mean  \\\n",
       "diagnosis        1.000000     0.730029      0.415185        0.696360   \n",
       "radius_mean      0.730029     1.000000      0.323782        0.676764   \n",
       "texture_mean     0.415185     0.323782      1.000000        0.302418   \n",
       "concavity_mean   0.696360     0.676764      0.302418        1.000000   \n",
       "radius_se        0.567134     0.679090      0.275869        0.631925   \n",
       "\n",
       "                radius_se  \n",
       "diagnosis        0.567134  \n",
       "radius_mean      0.679090  \n",
       "texture_mean     0.275869  \n",
       "concavity_mean   0.631925  \n",
       "radius_se        1.000000  "
      ]
     },
     "execution_count": 10,
     "metadata": {},
     "output_type": "execute_result"
    }
   ],
   "source": [
    "data.corr()"
   ]
  },
  {
   "cell_type": "markdown",
   "metadata": {},
   "source": [
    "Dari korelasi di atas, terlihat bahwa korelasi antarfitur tidak ada yang terlalu tinggi (lebih dari 0.7) dan korelasi fitur dengan diagnosis tidak ada yang terlalu rendah (kurang dari 0.4). Meski sebenarnya, penentuan batas 0.7 dan 0.4 di sini belum memiliki dasar yang kuat"
   ]
  },
  {
   "cell_type": "code",
   "execution_count": 11,
   "metadata": {},
   "outputs": [
    {
     "data": {
      "text/plain": [
       "0"
      ]
     },
     "execution_count": 11,
     "metadata": {},
     "output_type": "execute_result"
    }
   ],
   "source": [
    "# check duplicates\n",
    "data.duplicated().sum()"
   ]
  },
  {
   "cell_type": "markdown",
   "metadata": {},
   "source": [
    "### Split the Data\n",
    "Data yang berbentuk Dataframe dibagi menjadi array input dan array output. Selain itu, data juga dibagi menjadi data training dan data test secara random berdasarkan seed yang dapat diatur. Itu dilakukan melalui fungsi-fungsi pada numpy.random"
   ]
  },
  {
   "cell_type": "code",
   "execution_count": 12,
   "metadata": {},
   "outputs": [],
   "source": [
    "# Dataframe => Array\n",
    "Xy = data.to_numpy()"
   ]
  },
  {
   "cell_type": "code",
   "execution_count": 13,
   "metadata": {},
   "outputs": [],
   "source": [
    "# shuffle array\n",
    "np.random.seed(15)\n",
    "np.random.shuffle(Xy)\n",
    "\n",
    "# ratio of test data to all data\n",
    "test_ratio = 0.3\n",
    "\n",
    "# train-test split\n",
    "split_idx = round(len(Xy)*test_ratio)\n",
    "Xy_test = Xy[:split_idx]\n",
    "Xy_train = Xy[split_idx:]"
   ]
  },
  {
   "cell_type": "code",
   "execution_count": 14,
   "metadata": {},
   "outputs": [],
   "source": [
    "# input-output split\n",
    "X_test = Xy_test[:,1:]\n",
    "y_test = Xy_test[:,0]\n",
    "X_train = Xy_train[:,1:]\n",
    "y_train = Xy_train[:,0]"
   ]
  },
  {
   "cell_type": "code",
   "execution_count": 15,
   "metadata": {},
   "outputs": [
    {
     "name": "stdout",
     "output_type": "stream",
     "text": [
      "Train data contains 398 instances and Test data contains 171 instances\n"
     ]
    }
   ],
   "source": [
    "print('Train data contains', len(y_train), 'instances and Test data contains', len(y_test), 'instances')"
   ]
  },
  {
   "cell_type": "markdown",
   "metadata": {},
   "source": [
    "## Support Vector Machine\n",
    "Bagian ini memuat pendefinisian kelas terkait SVM, kemudian terdapat training dan testing. Namun, sebelumnya, terdapat sedikit penjelasan terkait konsep SVM yang akan diterapkan."
   ]
  },
  {
   "attachments": {
    "image.png": {
     "image/png": "[encoded data removed]"
    }
   },
   "cell_type": "markdown",
   "metadata": {},
   "source": [
    "### Explanation\n",
    "\n",
    "#### Cost Function\n",
    "Bagian penting dari berbagai model machine learning adalah cost function atau loss function. Pada SVM, tujuan utamanya adalah membuat marginnya (jarak terdekat antara titik data dengan bidang pembatas) selebar mungkin. Di sisi lain, kita perlu menyadari bahwa sebagian besar data di dunia nyata tidak linearly separable, tidak dapat dipisahkan dengan bidang pembatas linear. Maka, perlu ada semacam penalty untuk setiap titik data yang melampaui marginnya, makin jauh maka penalty nya makin besar. Dengan begitu, selain memaksimalkan margin, kita juga perlu meminimalkan total penalty nya. Fungsi yang perlu diminimalkan untuk keperluan itu:\n",
    "\n",
    "![image.png](attachment:image.png)\n",
    "Di sini, w adalah bobot/weight, C adalah parameter regularization, N atau n adalah banyak data, xi dan yi terkait dengan instance input dan output, kemudian b terkait dengan bias/intercept. Suku pertama terkait dengan memaksimalkan margin, jika kuadrat dari weight nya minimum maka margin nya maksimum. Sementara itu, suku kedua yang merupakan hinge loss terkait dengan penalty. \n",
    "\n",
    "C merupakan parameter terpenting di sini. Dengan C, kita bisa menentukan apa yang akan kita optimalkan, lebar margin atau total penalty. Jika C besar, model akan lebih berusaha meminimalkan penalty daripada memaksimalkan margin, berlaku pula sebaliknya. Kemudian, pada praktiknya, variabel b di atas akan dimasukan sebagai salah satu komponen w. Konsekuensinya, data input nya perlu sedikit disesuaikan dengan ditambah elemen bernilai satu. "
   ]
  },
  {
   "attachments": {
    "image.png": {
     "image/png": "[encoded data removed]"
    }
   },
   "cell_type": "markdown",
   "metadata": {},
   "source": [
    "#### Gradient of the Cost Function\n",
    "Karena kita menggunakan SGD, maka kita perlu mencari gradien dari cost function. Persamaan cost function diturunkan secara parsial terhadap w sehingga menghasilkan:\n",
    "![image.png](attachment:image.png)\n",
    "Pada SGD, kita hanya menghitung instance dari gradien nya, tidak untuk seluruh data. Maka, perhitungannya menjadi lebih sederhana tanpa melibatkan summation. Kita bisa menghilangkan 1/N dan operasi sigmanya"
   ]
  },
  {
   "attachments": {
    "image.png": {
     "image/png": "[encoded data removed]"
    }
   },
   "cell_type": "markdown",
   "metadata": {},
   "source": [
    "#### Stochastic Gradient Descent\n",
    "Konsep dari SGD adalah menggunakan minus dari gradien untuk menuruni kurva menuju titik minimum. Konsep ini dapat diformulasikan:\n",
    "\n",
    "![image.png](attachment:image.png)\n",
    "Di sini, beta adalah semacam weight, f adalah cost function, dan eta adalah learning rate. Operasi ini dilakukan untuk setiap instance pada data yang ada. Ketika kita telah melakukannya untuk seluruh instance, kita mendapatkan satu epoch. Karena kita telah mendefinisikan gradien pada bagian sebelumnya, maka itu bisa langsung diterapkan di sini"
   ]
  },
  {
   "cell_type": "markdown",
   "metadata": {},
   "source": [
    "#### Evaluation\n",
    "Evaluasi yang dimaksud adalah menggunakan model untuk memprediksi output berdasarkan data input. Itu dapat dilakukan dengan mengalikan data input dengan weight. Hasilnya adalah semacam vektor jarak, dari bidang pembatas ke tiap titik data. Jika nilainya positif, dia masuk salah satu kelas sehingga nilainya diubah menjadi 1. Jika nilainya negatif, dia masuk kelas yang lain sehingga nilainya diubah menjadi -1\n",
    "\n",
    "Bagian ini juga terkait dengan perhitungan loss dan accuracy. Untuk perhitungan loss, persamaannya sudah dijelaskan sebelumnya. Untuk accuracy, konsepnya adalah rasio antara banyaknya prediksi yang benar dengan banyak data total. Banyaknya prediksi benar dapat dicari dengan mengalikan vektor hasil prediksi (yang nilainya antara -1 dan 1) dengan vektor output sebenarnya (yang nilainya juga antara -1 dan 1), lalu dihitung banyaknya nilai 1"
   ]
  },
  {
   "cell_type": "markdown",
   "metadata": {},
   "source": [
    "### SVM Class\n",
    "Kelas ini meliputi berbagai variabel dan fungsi yang berkaitan dengan model SVM"
   ]
  },
  {
   "cell_type": "code",
   "execution_count": 16,
   "metadata": {},
   "outputs": [],
   "source": [
    "class SupportVectorMachine:\n",
    "    \n",
    "    def __init__(self, regularization, weight = 0):\n",
    "        self.C = regularization\n",
    "        self.w = weight\n",
    "    \n",
    "    def calc_loss(self, data_input, output):\n",
    "        # calculate hinge loss\n",
    "        dist = 1 - output * (np.dot(data_input, self.w))\n",
    "        dist = np.maximum(dist, 0)\n",
    "        hinge_loss = self.C * (np.sum(dist) / len(output))\n",
    "        # combine hinge loss and margin cost\n",
    "        loss = np.dot(self.w, self.w)/2 + hinge_loss\n",
    "        return loss\n",
    "    \n",
    "    def calc_accuracy(self, data_input, output):\n",
    "        predict = np.sign(np.dot(data_input, self.w))\n",
    "        acc = (predict*output == 1).sum()/len(output)\n",
    "        return acc\n",
    "    \n",
    "    def fit(self, X_train, y_train, learning_rate, epoch):\n",
    "        # Initialize\n",
    "        self.X_train = np.c_[X_train, np.ones(X_train.shape[0])]\n",
    "        self.y_train = y_train\n",
    "        self.l_rate = learning_rate\n",
    "        self.epoch = epoch\n",
    "        self.w = np.zeros(self.X_train.shape[1])\n",
    "        self.losses = []\n",
    "        self.accs = []\n",
    "        # Training\n",
    "        for e in range(self.epoch+1):  \n",
    "            for i, x in enumerate(self.X_train):\n",
    "                # calculate gradient\n",
    "                if ((1 - y_train[i]*np.dot(x, self.w)) < 0):\n",
    "                    gradient = self.w\n",
    "                else:\n",
    "                    gradient = self.w - self.C*y_train[i]*x\n",
    "                # update weight\n",
    "                self.w = self.w - self.l_rate*gradient\n",
    "            # calculate loss and accuracy\n",
    "            loss = self.calc_loss(self.X_train, y_train)\n",
    "            acc = self.calc_accuracy(self.X_train, y_train)\n",
    "            # save and print them each 500 epochs\n",
    "            if ((e % 500) == 0):\n",
    "                self.losses.append(loss)\n",
    "                self.accs.append(acc)\n",
    "                print('Epoch ', e, ' | loss = ', loss, ' | accuracy = ', acc)\n",
    "        \n",
    "    def plot_history(self):\n",
    "        epochs = np.arange(0, self.epoch+500, 500) # each 500 epochs as x-axis point\n",
    "        fig, axs = plt.subplots(2, figsize=(12, 8))\n",
    "        axs[0].plot(epochs, self.losses)             # first plot is about loss\n",
    "        axs[1].plot(epochs, self.accs, 'tab:orange') # second plot is about accuracy\n",
    "        axs[0].set(ylabel = 'Loss', xlabel = 'epochs')\n",
    "        axs[1].set(ylabel = 'Accuracy', xlabel = 'epochs')\n",
    "        print('History of Loss and Accuracy')\n",
    "        \n",
    "    def predict(self, X_test, y_test):\n",
    "        # add ones in the last column as biases\n",
    "        X_test = np.c_[X_test, np.ones(X_test.shape[0])]\n",
    "        # print loss and accuracy\n",
    "        loss = self.calc_loss(X_test, y_test)\n",
    "        acc = self.calc_accuracy(X_test, y_test)\n",
    "        print('loss = ', loss, ' | accuracy = ', acc)\n",
    "        # return output prediction\n",
    "        y_predict = np.sign(np.dot(X_test, self.w))\n",
    "        return y_predict, loss, acc"
   ]
  },
  {
   "cell_type": "markdown",
   "metadata": {},
   "source": [
    "### Batch Training Trial\n",
    "Ini dijalankan hanya saat diperlukan saja, utamanya ketika mencari nilai optimal untuk berbagai parameter seperti regularization dan learning rate"
   ]
  },
  {
   "cell_type": "code",
   "execution_count": 17,
   "metadata": {},
   "outputs": [],
   "source": [
    "regularization = [5000, 10000, 50000]\n",
    "learning_rate = [0.0000001, 0.00000001, 0.000000001]\n",
    "epochs = 5000"
   ]
  },
  {
   "cell_type": "code",
   "execution_count": 18,
   "metadata": {},
   "outputs": [],
   "source": [
    "%%capture\n",
    "# to surpress output in this cell\n",
    "\n",
    "# create Dictionary to save results\n",
    "results = {}\n",
    "\n",
    "for C in regularization:\n",
    "    SVM = SupportVectorMachine(C) # create an object\n",
    "    for lr in learning_rate:\n",
    "        key = 'C='+str(C)+'   lr='+str(lr) # will be row names\n",
    "        SVM.fit(X_train, y_train, lr, epochs)\n",
    "        loss1 = SVM.losses[-1] # get the final loss\n",
    "        acc1 = SVM.accs[-1]    # get the final accuracy\n",
    "        _, loss2, acc2 = SVM.predict(X_test, y_test)\n",
    "        results[key] = [loss1, acc1, loss2, acc2] # will be row values\n",
    "\n",
    "# create Dataframe from Dictionary\n",
    "column_name = ['Train - Loss', 'Train - Acc', 'Test - Loss', 'Test - Acc']\n",
    "results_DF = pd.DataFrame.from_dict(results, orient='index', columns=column_name)"
   ]
  },
  {
   "cell_type": "code",
   "execution_count": 19,
   "metadata": {},
   "outputs": [
    {
     "data": {
      "text/html": [
       "<div>\n",
       "<style scoped>\n",
       "    .dataframe tbody tr th:only-of-type {\n",
       "        vertical-align: middle;\n",
       "    }\n",
       "\n",
       "    .dataframe tbody tr th {\n",
       "        vertical-align: top;\n",
       "    }\n",
       "\n",
       "    .dataframe thead th {\n",
       "        text-align: right;\n",
       "    }\n",
       "</style>\n",
       "<table border=\"1\" class=\"dataframe\">\n",
       "  <thead>\n",
       "    <tr style=\"text-align: right;\">\n",
       "      <th></th>\n",
       "      <th>Train - Loss</th>\n",
       "      <th>Train - Acc</th>\n",
       "      <th>Test - Loss</th>\n",
       "      <th>Test - Acc</th>\n",
       "    </tr>\n",
       "  </thead>\n",
       "  <tbody>\n",
       "    <tr>\n",
       "      <td>C=5000   lr=1e-07</td>\n",
       "      <td>946.620446</td>\n",
       "      <td>0.929648</td>\n",
       "      <td>1367.187378</td>\n",
       "      <td>0.883041</td>\n",
       "    </tr>\n",
       "    <tr>\n",
       "      <td>C=5000   lr=1e-08</td>\n",
       "      <td>1225.564113</td>\n",
       "      <td>0.902010</td>\n",
       "      <td>1693.133296</td>\n",
       "      <td>0.865497</td>\n",
       "    </tr>\n",
       "    <tr>\n",
       "      <td>C=5000   lr=1e-09</td>\n",
       "      <td>2965.475262</td>\n",
       "      <td>0.781407</td>\n",
       "      <td>3136.113722</td>\n",
       "      <td>0.771930</td>\n",
       "    </tr>\n",
       "    <tr>\n",
       "      <td>C=10000   lr=1e-07</td>\n",
       "      <td>1928.886788</td>\n",
       "      <td>0.924623</td>\n",
       "      <td>2831.254601</td>\n",
       "      <td>0.883041</td>\n",
       "    </tr>\n",
       "    <tr>\n",
       "      <td>C=10000   lr=1e-08</td>\n",
       "      <td>2084.013297</td>\n",
       "      <td>0.927136</td>\n",
       "      <td>3021.563772</td>\n",
       "      <td>0.888889</td>\n",
       "    </tr>\n",
       "    <tr>\n",
       "      <td>C=10000   lr=1e-09</td>\n",
       "      <td>4358.052673</td>\n",
       "      <td>0.841709</td>\n",
       "      <td>4884.047051</td>\n",
       "      <td>0.824561</td>\n",
       "    </tr>\n",
       "    <tr>\n",
       "      <td>C=50000   lr=1e-07</td>\n",
       "      <td>14127.216124</td>\n",
       "      <td>0.912060</td>\n",
       "      <td>18334.007670</td>\n",
       "      <td>0.900585</td>\n",
       "    </tr>\n",
       "    <tr>\n",
       "      <td>C=50000   lr=1e-08</td>\n",
       "      <td>8519.565232</td>\n",
       "      <td>0.927136</td>\n",
       "      <td>12645.141482</td>\n",
       "      <td>0.877193</td>\n",
       "    </tr>\n",
       "    <tr>\n",
       "      <td>C=50000   lr=1e-09</td>\n",
       "      <td>12031.202918</td>\n",
       "      <td>0.907035</td>\n",
       "      <td>16727.845568</td>\n",
       "      <td>0.865497</td>\n",
       "    </tr>\n",
       "  </tbody>\n",
       "</table>\n",
       "</div>"
      ],
      "text/plain": [
       "                    Train - Loss  Train - Acc   Test - Loss  Test - Acc\n",
       "C=5000   lr=1e-07     946.620446     0.929648   1367.187378    0.883041\n",
       "C=5000   lr=1e-08    1225.564113     0.902010   1693.133296    0.865497\n",
       "C=5000   lr=1e-09    2965.475262     0.781407   3136.113722    0.771930\n",
       "C=10000   lr=1e-07   1928.886788     0.924623   2831.254601    0.883041\n",
       "C=10000   lr=1e-08   2084.013297     0.927136   3021.563772    0.888889\n",
       "C=10000   lr=1e-09   4358.052673     0.841709   4884.047051    0.824561\n",
       "C=50000   lr=1e-07  14127.216124     0.912060  18334.007670    0.900585\n",
       "C=50000   lr=1e-08   8519.565232     0.927136  12645.141482    0.877193\n",
       "C=50000   lr=1e-09  12031.202918     0.907035  16727.845568    0.865497"
      ]
     },
     "execution_count": 19,
     "metadata": {},
     "output_type": "execute_result"
    }
   ],
   "source": [
    "results_DF"
   ]
  },
  {
   "cell_type": "markdown",
   "metadata": {},
   "source": [
    "Perlu diperhatikan bahwa nilai loss dipengaruhi secara langsung oleh nilai regularization C. Makin besar C, umumnya loss akan menjadi makin besar. Karenanya, untuk nilai C yang berbeda, nilai loss tidak bisa dibandingkan"
   ]
  },
  {
   "cell_type": "markdown",
   "metadata": {},
   "source": [
    "### Training the Model\n",
    "Terkait training ini, kita perlu menyesuaikan beberapa parameter agar proses training dan model yang dihasilkan bisa optimal: regularization, learning rate, dan epochs."
   ]
  },
  {
   "cell_type": "code",
   "execution_count": 20,
   "metadata": {},
   "outputs": [],
   "source": [
    "regularization = 10000\n",
    "learning_rate = 0.0000001\n",
    "epochs = 12000"
   ]
  },
  {
   "cell_type": "code",
   "execution_count": 21,
   "metadata": {},
   "outputs": [
    {
     "name": "stdout",
     "output_type": "stream",
     "text": [
      "Epoch  0  | loss =  8557.252264504092  | accuracy =  0.5904522613065326\n",
      "Epoch  500  | loss =  2062.439524148559  | accuracy =  0.9271356783919598\n",
      "Epoch  1000  | loss =  1958.788873399038  | accuracy =  0.9271356783919598\n",
      "Epoch  1500  | loss =  1942.2989361684656  | accuracy =  0.9246231155778895\n",
      "Epoch  2000  | loss =  2002.3133692243366  | accuracy =  0.9221105527638191\n",
      "Epoch  2500  | loss =  1968.6277145164574  | accuracy =  0.9246231155778895\n",
      "Epoch  3000  | loss =  1825.7301417464903  | accuracy =  0.9321608040201005\n",
      "Epoch  3500  | loss =  1869.5917531899859  | accuracy =  0.9296482412060302\n",
      "Epoch  4000  | loss =  1930.120867310527  | accuracy =  0.9246231155778895\n",
      "Epoch  4500  | loss =  1887.4582664857355  | accuracy =  0.9271356783919598\n",
      "Epoch  5000  | loss =  1928.8867877132402  | accuracy =  0.9246231155778895\n",
      "Epoch  5500  | loss =  1779.9215483035005  | accuracy =  0.9396984924623115\n",
      "Epoch  6000  | loss =  1779.9201110080787  | accuracy =  0.9422110552763819\n",
      "Epoch  6500  | loss =  1764.2838939426938  | accuracy =  0.9346733668341709\n",
      "Epoch  7000  | loss =  1730.6068496401517  | accuracy =  0.9396984924623115\n",
      "Epoch  7500  | loss =  1724.295994431795  | accuracy =  0.9396984924623115\n",
      "Epoch  8000  | loss =  1734.11656945681  | accuracy =  0.9371859296482412\n",
      "Epoch  8500  | loss =  1718.0578504270193  | accuracy =  0.9422110552763819\n",
      "Epoch  9000  | loss =  1730.1658989248263  | accuracy =  0.9371859296482412\n",
      "Epoch  9500  | loss =  1716.3938043846524  | accuracy =  0.9396984924623115\n",
      "Epoch  10000  | loss =  1729.3747400532575  | accuracy =  0.9396984924623115\n",
      "Epoch  10500  | loss =  1719.7466217689819  | accuracy =  0.9422110552763819\n",
      "Epoch  11000  | loss =  1755.5462781612396  | accuracy =  0.9346733668341709\n",
      "Epoch  11500  | loss =  1742.0962634200696  | accuracy =  0.9371859296482412\n",
      "Epoch  12000  | loss =  1719.4364107244965  | accuracy =  0.9472361809045227\n"
     ]
    }
   ],
   "source": [
    "SVM = SupportVectorMachine(regularization) # create an object/model\n",
    "SVM.fit(X_train, y_train, learning_rate, epochs) # train the SVM model"
   ]
  },
  {
   "cell_type": "code",
   "execution_count": 22,
   "metadata": {},
   "outputs": [
    {
     "name": "stdout",
     "output_type": "stream",
     "text": [
      "History of Loss and Accuracy\n"
     ]
    },
    {
     "data": {
      "image/png": "[encoded data removed]",
      "text/plain": [
       "<Figure size 864x576 with 2 Axes>"
      ]
     },
     "metadata": {
      "needs_background": "light"
     },
     "output_type": "display_data"
    }
   ],
   "source": [
    "# plot the history of loss and accuracy values\n",
    "SVM.plot_history()"
   ]
  },
  {
   "cell_type": "code",
   "execution_count": 23,
   "metadata": {},
   "outputs": [
    {
     "name": "stdout",
     "output_type": "stream",
     "text": [
      "[  0.5892066    0.14006831  12.42767612   2.34723759 -13.25413646]\n"
     ]
    }
   ],
   "source": [
    "# model weights\n",
    "print(SVM.w)"
   ]
  },
  {
   "cell_type": "markdown",
   "metadata": {},
   "source": [
    "### Evaluate the Model\n",
    "Pada bagian ini, model SVM yang telah dilatih kemudian diuji dengan data test yang belum pernah ia lihat sebelumnya. Selain itu, ada pula semacam confusion matrix untuk melihat output dari model dengan lebih jelas"
   ]
  },
  {
   "cell_type": "code",
   "execution_count": 24,
   "metadata": {},
   "outputs": [],
   "source": [
    "def confusion_matrix(y_true, y_predict, classes):\n",
    "    # initialize matrix as dictionary\n",
    "    matrix = {}\n",
    "    # looping to fill 'row'\n",
    "    for key1, val1 in classes.items():\n",
    "        bool1 = (y_true == key1)\n",
    "        count1 = bool1.sum()\n",
    "        index = 'True '+classes[key1] # will be row names\n",
    "        matrix[index] = [] # will be row values\n",
    "        # looping to fill 'column' in single 'row'\n",
    "        for key2, val2 in classes.items():\n",
    "            bool2 = (y_predict == key2)\n",
    "            count2 = (bool1*bool2).sum()\n",
    "            percent = 100*count2/count1\n",
    "            text = str(count2) + ' (' + \"{:.2f}\".format(percent) + '%)'\n",
    "            matrix[index].append(text)\n",
    "    # create dataframe from dictionary\n",
    "    column_name = ['Predicted '+classes[key] for key in classes.keys()]\n",
    "    DF = pd.DataFrame.from_dict(matrix, orient='index', columns=column_name)\n",
    "    return DF"
   ]
  },
  {
   "cell_type": "code",
   "execution_count": 25,
   "metadata": {},
   "outputs": [
    {
     "name": "stdout",
     "output_type": "stream",
     "text": [
      "model performance for train dataset:\n",
      "loss =  1719.4364107244965  | accuracy =  0.9472361809045227\n"
     ]
    }
   ],
   "source": [
    "print('model performance for train dataset:')\n",
    "y_predict1, loss1, acc1 = SVM.predict(X_train, y_train)"
   ]
  },
  {
   "cell_type": "code",
   "execution_count": 26,
   "metadata": {},
   "outputs": [
    {
     "name": "stdout",
     "output_type": "stream",
     "text": [
      "confusion matrix for train dataset:\n"
     ]
    },
    {
     "data": {
      "text/html": [
       "<div>\n",
       "<style scoped>\n",
       "    .dataframe tbody tr th:only-of-type {\n",
       "        vertical-align: middle;\n",
       "    }\n",
       "\n",
       "    .dataframe tbody tr th {\n",
       "        vertical-align: top;\n",
       "    }\n",
       "\n",
       "    .dataframe thead th {\n",
       "        text-align: right;\n",
       "    }\n",
       "</style>\n",
       "<table border=\"1\" class=\"dataframe\">\n",
       "  <thead>\n",
       "    <tr style=\"text-align: right;\">\n",
       "      <th></th>\n",
       "      <th>Predicted Benign</th>\n",
       "      <th>Predicted Malignant</th>\n",
       "    </tr>\n",
       "  </thead>\n",
       "  <tbody>\n",
       "    <tr>\n",
       "      <td>True Benign</td>\n",
       "      <td>241 (96.79%)</td>\n",
       "      <td>8 (3.21%)</td>\n",
       "    </tr>\n",
       "    <tr>\n",
       "      <td>True Malignant</td>\n",
       "      <td>13 (8.72%)</td>\n",
       "      <td>136 (91.28%)</td>\n",
       "    </tr>\n",
       "  </tbody>\n",
       "</table>\n",
       "</div>"
      ],
      "text/plain": [
       "               Predicted Benign Predicted Malignant\n",
       "True Benign        241 (96.79%)           8 (3.21%)\n",
       "True Malignant       13 (8.72%)        136 (91.28%)"
      ]
     },
     "execution_count": 26,
     "metadata": {},
     "output_type": "execute_result"
    }
   ],
   "source": [
    "print('confusion matrix for train dataset:')\n",
    "matrix1 = confusion_matrix(y_train, y_predict1, {-1:'Benign', 1:'Malignant'})\n",
    "matrix1"
   ]
  },
  {
   "cell_type": "code",
   "execution_count": 27,
   "metadata": {},
   "outputs": [
    {
     "name": "stdout",
     "output_type": "stream",
     "text": [
      "model performance for test dataset:\n",
      "loss =  2394.1731244801813  | accuracy =  0.9005847953216374\n"
     ]
    }
   ],
   "source": [
    "print('model performance for test dataset:')\n",
    "y_predict2, loss2, acc2 = SVM.predict(X_test, y_test)"
   ]
  },
  {
   "cell_type": "code",
   "execution_count": 28,
   "metadata": {},
   "outputs": [
    {
     "name": "stdout",
     "output_type": "stream",
     "text": [
      "confusion matrix for train dataset:\n"
     ]
    },
    {
     "data": {
      "text/html": [
       "<div>\n",
       "<style scoped>\n",
       "    .dataframe tbody tr th:only-of-type {\n",
       "        vertical-align: middle;\n",
       "    }\n",
       "\n",
       "    .dataframe tbody tr th {\n",
       "        vertical-align: top;\n",
       "    }\n",
       "\n",
       "    .dataframe thead th {\n",
       "        text-align: right;\n",
       "    }\n",
       "</style>\n",
       "<table border=\"1\" class=\"dataframe\">\n",
       "  <thead>\n",
       "    <tr style=\"text-align: right;\">\n",
       "      <th></th>\n",
       "      <th>Predicted Benign</th>\n",
       "      <th>Predicted Malignant</th>\n",
       "    </tr>\n",
       "  </thead>\n",
       "  <tbody>\n",
       "    <tr>\n",
       "      <td>True Benign</td>\n",
       "      <td>100 (92.59%)</td>\n",
       "      <td>8 (7.41%)</td>\n",
       "    </tr>\n",
       "    <tr>\n",
       "      <td>True Malignant</td>\n",
       "      <td>9 (14.29%)</td>\n",
       "      <td>54 (85.71%)</td>\n",
       "    </tr>\n",
       "  </tbody>\n",
       "</table>\n",
       "</div>"
      ],
      "text/plain": [
       "               Predicted Benign Predicted Malignant\n",
       "True Benign        100 (92.59%)           8 (7.41%)\n",
       "True Malignant       9 (14.29%)         54 (85.71%)"
      ]
     },
     "execution_count": 28,
     "metadata": {},
     "output_type": "execute_result"
    }
   ],
   "source": [
    "print('confusion matrix for train dataset:')\n",
    "matrix2 = confusion_matrix(y_test, y_predict2, {-1:'Benign', 1:'Malignant'})\n",
    "matrix2"
   ]
  },
  {
   "cell_type": "markdown",
   "metadata": {},
   "source": [
    "## Analysis"
   ]
  },
  {
   "cell_type": "markdown",
   "metadata": {},
   "source": [
    "### Method\n",
    "Secara teori, implementasi metode SVM berbasis SGD di sini sudah cukup sesuai dengan teori. Meski memang, terdapat banyak hal yang bisa ditingkatkan. Apalagi mengingat metode SVM itu sendiri sebenarnya sangat beragam dalam pendekatan implementasinya. \n",
    "\n",
    "Dari berbagai percobaan yang saya lakukan dengan berbagai nilai parameter, saya merasa bahwa metode optimasinya masih perlu ditingkatkan. Di awal, memang bekerja dengan sangat baik. Namun, tidak lama setelah itu, terjadi semacam stuck sehingga loss nya tidak bisa berkurang lagi. Berkaitan dengan hal itu, ketika sudah dekat dengan titik minimum, loss nya hanya bisa berosilasi naik-turun, tanpa bisa menuju ke titik minimum itu. Ke depannya, masalah ini di antaranya bisa diatasi dengan learning rate yang makin kecil saat epoch nya sudah cukup besar. \n",
    "\n",
    "Kemudian, penggunaan Batch Training untuk mencari parameter yang sesuai, saya rasa cukup berguna. Meski memang, saya sendiri belum menggunakannya secara maksimal untuk mencari parameter terbaik. Itu baru digunakan untuk mendapat gambaran umum terkait pengaruh nilai regularization dan learning rate. \n",
    "\n",
    "### Result\n",
    "Secara umum, kode SVM yang dibuat telah mampu melakukan klasifikasi dengan cukup baik pada data Breast Cancer. Akurasi untuk data train mencapai 95% sementara untuk data test adalah 90%. Nilai itu didapatkan dengan model SVM yang nilai regularization nya diatur sebesar 10000, learning rate nya adalah 0.0000001, sementara epoch nya mencapai 12000. Meski nilai parameternya terlihat sangat besar (atau sangat kecil), waktu untuk training nya tidak terlalu lama, kurang dari 50 detik. \n",
    "\n",
    "Dari bagian Evaluation, kita melihat bahwa performa model pada data testing tidak berbeda jauh dengan performanya pada data training. Ini berarti, training telah terhindar dari overfitting dan bisa tergeneralisasi dengan cukup baik. Dari confusion matrix, terlihat bahwa kesalahan untuk tipe Malignant relatif lebih besar. Itu karena pada datanya terdapat ketidakseimbangan, tipe Benign lebih banyak daripada Malignant."
   ]
  }
 ],
 "metadata": {
  "kernelspec": {
   "display_name": "Python 3",
   "language": "python",
   "name": "python3"
  },
  "language_info": {
   "codemirror_mode": {
    "name": "ipython",
    "version": 3
   },
   "file_extension": ".py",
   "mimetype": "text/x-python",
   "name": "python",
   "nbconvert_exporter": "python",
   "pygments_lexer": "ipython3",
   "version": "3.7.4"
  }
 },
 "nbformat": 4,
 "nbformat_minor": 2
}
